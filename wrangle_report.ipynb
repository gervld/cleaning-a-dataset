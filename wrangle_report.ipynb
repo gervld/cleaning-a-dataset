{
 "cells": [
  {
   "cell_type": "markdown",
   "metadata": {},
   "source": [
    "# Data Wrangling Report"
   ]
  },
  {
   "cell_type": "markdown",
   "metadata": {},
   "source": [
    "## Project Objectives\n",
    "The main project objectives was to help I the student engage in the following:  \n",
    "* Perform the first step in the data wrangling tree which is data gathering from three different file formats and sources\n",
    "* Access the data gathered both visually and programmatically\n",
    "* Clean the data for all visible error that could be gathered\n",
    "* Make insights on the data and create visualizations when appropiate\n",
    "* Create a report to discuss both wrangling efforts and insights and visualizatons created."
   ]
  },
  {
   "cell_type": "markdown",
   "metadata": {},
   "source": [
    "## Step 1: Gather The Data"
   ]
  },
  {
   "cell_type": "markdown",
   "metadata": {},
   "source": [
    "### The weratedogs twitter archive\n",
    "The file was giving to me by udacity via a link, which i had to download programmatically,uploaded it and read into a pandas dataframe.  \n",
    "### The tweet image predictions\n",
    "The file was also downloaded programmatically using the Request library,using the URL that was provided by udacity  \n",
    "### Additional data from twitter API\n",
    "Using the tweet IDs in the WeRateDogs Twitter archive, query the Twitter API for each tweet's JSON data using Python's Tweepy library and store each tweet's entire set of JSON data in a file called tweet_json.txt file.Each tweet's JSON data should be written to its own line. Then read this .txt file line by line into a pandas DataFrame with (at minimum) tweet ID, retweet count, and favorite count."
   ]
  },
  {
   "cell_type": "markdown",
   "metadata": {},
   "source": [
    "## Step 2 and 3: Assess and Clean The Data"
   ]
  },
  {
   "cell_type": "markdown",
   "metadata": {},
   "source": [
    "While working with the data some assessments where made and errors record and clean, the table below shows record of this"
   ]
  },
  {
   "cell_type": "code",
   "execution_count": null,
   "metadata": {},
   "outputs": [],
   "source": []
  },
  {
   "cell_type": "markdown",
   "metadata": {},
   "source": []
  },
  {
   "cell_type": "markdown",
   "metadata": {},
   "source": [
    "Dataset\tObservation\tSolution\n",
    "Tweet_df\tNot all are dog ratings and some are retweets\tI Removed rows that are retweets and not dog ratings as required by the project.\n",
    "Tweet_df\tInconsistent URL format between the source and extended URL column\tI removed the html tags that are with the source URL.\n",
    "Tweet_image\tInconsistent input of lower and upper cases in the (P1,P2,P3) columns\tI changed the case of the various columns to lower case for consistency.\n",
    "Tweet_image\tGerman_short-haired_pointer instead of German_short_haired_pointer\tI was able to replace this value to the correct format, to achieve consistency.\n",
    "Tweet_df\tThe timestamp column is not in the right data type.\tUsing the to_datetime function to convert the datatype of the timestamp column from object to datetime\n",
    "Tweet_df\tmissing values in the in_reply_to_status_id and in_reply_to_user_id\tI had to drop the columns because it does not really have any relevance in the dataset\n",
    "Tweet_df \t‘a’ and ‘none’ used as representation for dogs without a name\tAfter much observation round rows that was represented like this, I changed the values to anonymous as the representation for names of dogs that were not identified.\n",
    "Tweet_df\tinaccurate dog stage doggo and floofler for id 854010172552949760\n",
    "\tFrom the text, it was clear where the problem came from, the owner initially thought it was a doggo but found out it was a floofler, so I had to drop the inaccurate row.\n",
    "\n"
   ]
  },
  {
   "cell_type": "markdown",
   "metadata": {},
   "source": [
    "Dataset\tObservation\tSolution\n",
    "Tweet_df\tNot all are dog ratings and some are retweets\tI Removed rows that are retweets and not dog ratings as required by the project.\n",
    "Tweet_df\tInconsistent URL format between the source and extended URL column\tI removed the html tags that are with the source URL.\n",
    "Tweet_image\tInconsistent input of lower and upper cases in the (P1,P2,P3) columns\tI changed the case of the various columns to lower case for consistency.\n",
    "Tweet_image\tGerman_short-haired_pointer instead of German_short_haired_pointer\tI was able to replace this value to the correct format, to achieve consistency.\n",
    "Tweet_df\tThe timestamp column is not in the right data type.\tUsing the to_datetime function to convert the datatype of the timestamp column from object to datetime\n",
    "Tweet_df\tmissing values in the in_reply_to_status_id and in_reply_to_user_id\tI had to drop the columns because it does not really have any relevance in the dataset\n",
    "Tweet_df \t‘a’ and ‘none’ used as representation for dogs without a name\tAfter much observation round rows that was represented like this, I changed the values to anonymous as the representation for names of dogs that were not identified.\n",
    "Tweet_df\tinaccurate dog stage doggo and floofler for id 854010172552949760\n",
    "\tFrom the text, it was clear where the problem came from, the owner initially thought it was a doggo but found out it was a floofler, so I had to drop the inaccurate row.\n",
    "\n"
   ]
  },
  {
   "cell_type": "markdown",
   "metadata": {},
   "source": [
    "Dataset   |         Obseravtion | Solution\n",
    "Tweet_df  |not all are dog ratinh "
   ]
  },
  {
   "cell_type": "code",
   "execution_count": null,
   "metadata": {},
   "outputs": [],
   "source": []
  },
  {
   "cell_type": "code",
   "execution_count": null,
   "metadata": {},
   "outputs": [],
   "source": []
  },
  {
   "cell_type": "markdown",
   "metadata": {},
   "source": []
  },
  {
   "cell_type": "markdown",
   "metadata": {},
   "source": []
  },
  {
   "cell_type": "markdown",
   "metadata": {},
   "source": []
  }
 ],
 "metadata": {
  "kernelspec": {
   "display_name": "Python 3",
   "language": "python",
   "name": "python3"
  },
  "language_info": {
   "codemirror_mode": {
    "name": "ipython",
    "version": 3
   },
   "file_extension": ".py",
   "mimetype": "text/x-python",
   "name": "python",
   "nbconvert_exporter": "python",
   "pygments_lexer": "ipython3",
   "version": "3.6.3"
  }
 },
 "nbformat": 4,
 "nbformat_minor": 2
}
